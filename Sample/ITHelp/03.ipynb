{
 "cells": [
  {
   "cell_type": "code",
   "execution_count": null,
   "metadata": {},
   "outputs": [],
   "source": [
    "# 情境：輸入不同channel圖片"
   ]
  },
  {
   "cell_type": "code",
   "execution_count": 4,
   "metadata": {},
   "outputs": [
    {
     "name": "stdout",
     "output_type": "stream",
     "text": [
      "Found 3670 files belonging to 5 classes.\n",
      "Using 2936 files for training.\n",
      "Found 3670 files belonging to 5 classes.\n",
      "Using 734 files for validation.\n",
      "<class 'tensorflow.python.data.ops.dataset_ops.BatchDataset'> \n",
      "\n",
      "<BatchDataset element_spec=(TensorSpec(shape=(None, 28, 28, 3), dtype=tf.float32, name=None), TensorSpec(shape=(None,), dtype=tf.int32, name=None))> \n",
      "\n",
      "---------------------- \n",
      "\n"
     ]
    }
   ],
   "source": [
    "\n",
    "import tensorflow as tf\n",
    "mnist = tf.keras.datasets.mnist\n",
    "# 匯入RPG 花圖片\n",
    "import pathlib\n",
    "dataset_url = \"https://storage.googleapis.com/download.tensorflow.org/example_images/flower_photos.tgz\"\n",
    "data_dir = tf.keras.utils.get_file('flower_photos', origin=dataset_url, untar=True) \n",
    "data_dir = pathlib.Path(data_dir)\n",
    "training = tf.keras.preprocessing.image_dataset_from_directory( \n",
    "  data_dir, \n",
    "  validation_split=0.2, \n",
    "  subset=\"training\", \n",
    "  seed=123,\n",
    "  image_size=(28, 28))\n",
    "y_train = training.class_names\n",
    "x_train=training\n",
    "\n",
    "\n",
    "testing = tf.keras.preprocessing.image_dataset_from_directory( \n",
    "  data_dir, \n",
    "  validation_split=0.2, \n",
    "  subset=\"validation\", \n",
    "  seed=123,\n",
    "  image_size=(28, 28))\n",
    "y_test = testing.class_names\n",
    "x_test=testing\n",
    "input_shape=(28,28,3) \n",
    "print(type(x_train),\"\\n\")\n",
    "print(x_train,\"\\n\")\n",
    "\n",
    "print(\"----------------------\",\"\\n\")\n",
    "\n",
    "# 匯入 MNIST 手寫阿拉伯數字 訓練灰階圖片\n",
    "# (x_train, y_train),(x_test, y_test) = mnist.load_data()\n",
    "# # 特徵縮放，使用常態化(Normalization)，公式 = (x - min) / (max - min)\n",
    "# # 顏色範圍：0~255，所以，公式簡化為 x / 255\n",
    "# x_train, x_test = x_train / 255.0, x_test / 255.0\n",
    "# input_shape=(28,28,1) # 等於(28,28)\n",
    "# print(type(x_train),\"\\n\")\n",
    "# print(x_train.shape,\"\\n\")"
   ]
  },
  {
   "cell_type": "code",
   "execution_count": 5,
   "metadata": {},
   "outputs": [
    {
     "name": "stdout",
     "output_type": "stream",
     "text": [
      "Epoch 1/5\n"
     ]
    },
    {
     "name": "stderr",
     "output_type": "stream",
     "text": [
      "2022-05-11 00:09:41.101362: W tensorflow/core/platform/profile_utils/cpu_utils.cc:128] Failed to get CPU frequency: 0 Hz\n",
      "2022-05-11 00:09:41.101418: I tensorflow/core/grappler/optimizers/custom_graph_optimizer_registry.cc:113] Plugin optimizer for device_type GPU is enabled.\n"
     ]
    },
    {
     "name": "stdout",
     "output_type": "stream",
     "text": [
      "92/92 [==============================] - 1s 11ms/step - loss: 68.4325 - accuracy: 0.2340\n",
      "Epoch 2/5\n",
      "92/92 [==============================] - 1s 10ms/step - loss: 2.2540 - accuracy: 0.2381\n",
      "Epoch 3/5\n",
      "92/92 [==============================] - 1s 10ms/step - loss: 2.1667 - accuracy: 0.2507\n",
      "Epoch 4/5\n",
      "92/92 [==============================] - 1s 10ms/step - loss: 2.0784 - accuracy: 0.2517\n",
      "Epoch 5/5\n",
      "92/92 [==============================] - 1s 10ms/step - loss: 2.0216 - accuracy: 0.2520\n",
      " 6/23 [======>.......................] - ETA: 0s - loss: 2.0152 - accuracy: 0.2083"
     ]
    },
    {
     "name": "stderr",
     "output_type": "stream",
     "text": [
      "2022-05-11 00:09:46.287567: I tensorflow/core/grappler/optimizers/custom_graph_optimizer_registry.cc:113] Plugin optimizer for device_type GPU is enabled.\n"
     ]
    },
    {
     "name": "stdout",
     "output_type": "stream",
     "text": [
      "23/23 [==============================] - 0s 8ms/step - loss: 2.0186 - accuracy: 0.2411\n"
     ]
    },
    {
     "data": {
      "text/plain": [
       "[2.0186164379119873, 0.24114440381526947]"
      ]
     },
     "execution_count": 5,
     "metadata": {},
     "output_type": "execute_result"
    }
   ],
   "source": [
    "# 建立模型\n",
    "model = tf.keras.models.Sequential([\n",
    "  tf.keras.layers.Flatten(input_shape=input_shape),\n",
    "  tf.keras.layers.Dense(128, activation='relu'),\n",
    "  tf.keras.layers.Dropout(0.2),\n",
    "  tf.keras.layers.Dense(10, activation='softmax')\n",
    "])\n",
    "\n",
    "# 設定優化器(optimizer)、損失函數(loss)、效能衡量指標(metrics)的類別\n",
    "model.compile(optimizer='adam',\n",
    "              loss='sparse_categorical_crossentropy',\n",
    "              metrics=['accuracy'])\n",
    "\n",
    "# 模型訓練\n",
    "history = model.fit(x_train, epochs=5)\n",
    "# model.fit(x_train, y_train, epochs=1)\n",
    "\n",
    "\n",
    "# 模型評估，打分數\n",
    "model.evaluate(testing)\n",
    "# model.evaluate(x_test, y_test)"
   ]
  },
  {
   "cell_type": "code",
   "execution_count": 8,
   "metadata": {},
   "outputs": [
    {
     "name": "stdout",
     "output_type": "stream",
     "text": [
      "['loss', 'accuracy']\n"
     ]
    },
    {
     "data": {
      "image/png": "[encoded data removed]",
      "text/plain": [
       "<Figure size 1008x360 with 2 Axes>"
      ]
     },
     "metadata": {
      "needs_background": "light"
     },
     "output_type": "display_data"
    }
   ],
   "source": [
    "import matplotlib.pyplot as plt\n",
    "print(list(history.history))\n",
    "plt.figure(figsize=(14,5))\n",
    "plt.subplot(1, 2, 1)\n",
    "plt.suptitle('Train Results', fontsize=10)\n",
    "plt.xlabel(\"Number of Epochs\")\n",
    "plt.ylabel('Loss', fontsize=16)\n",
    "plt.plot(history.history['loss'], color='b', label='Training Loss')\n",
    "plt.legend(loc='upper right')\n",
    "\n",
    "plt.subplot(1, 2, 2)\n",
    "plt.ylabel('Accuracy', fontsize=16)\n",
    "plt.plot(history.history['accuracy'], color='green', label='Training Accuracy')\n",
    "plt.legend(loc='lower right')\n",
    "plt.show()"
   ]
  }
 ],
 "metadata": {
  "interpreter": {
   "hash": "4bd624a0593993fe43ac4046b27b898fb2ef75c21c08f81e89e64ea0f51df676"
  },
  "kernelspec": {
   "display_name": "Python 3.8.13 ('tensorflow')",
   "language": "python",
   "name": "python3"
  },
  "language_info": {
   "codemirror_mode": {
    "name": "ipython",
    "version": 3
   },
   "file_extension": ".py",
   "mimetype": "text/x-python",
   "name": "python",
   "nbconvert_exporter": "python",
   "pygments_lexer": "ipython3",
   "version": "3.8.13"
  },
  "orig_nbformat": 4
 },
 "nbformat": 4,
 "nbformat_minor": 2
}
