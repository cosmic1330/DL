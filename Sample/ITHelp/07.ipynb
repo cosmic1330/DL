{
 "cells": [
  {
   "cell_type": "markdown",
   "metadata": {},
   "source": [
    "# Callback 可以在模型訓練過程中觸發事件\n",
    "\n",
    "## 常用的 Callback 包括：\n",
    "- CSVLogger：可將訓練過程記錄至 CSV 檔案。\n",
    "- TensorBoard：這是跟 Tensorflow 結合的有利支援，將訓練過程記錄存成 TensorBoard 檔案格式，直接使用 TensorBoard 工具觀看統計圖。\n",
    "- ModelCheckpoint：由於訓練過程耗時，有可能訓練一半就當掉，因此，我們可以利用這個 Callback，在每一個檢查點(Checkpoint)存檔，下次執行時，就可以從中斷點繼續訓練。\n",
    "- EarlyStopping：可設定訓練提早結束的條件。\n",
    "- LearningRateScheduler：可動態調整學習率(Learning Rate)。\n",
    "- ReduceLROnPlateau：當訓練已無改善時，可以降低學習率，追求更細微的改善，找到更精準的最佳解。\n",
    "- LambdaCallback：直接使用匿名函數自制Callback。\n",
    "- TerminateOnNaN：當損失函數為NaN(Null value)，訓練提早結束。\n",
    "- ProgbarLogger：記錄訓練進度。\n",
    "\n",
    "啟動tensorboard：\n",
    "cmd: tensorboard --logdir=logs      "
   ]
  },
  {
   "cell_type": "code",
   "execution_count": 8,
   "metadata": {},
   "outputs": [
    {
     "name": "stdout",
     "output_type": "stream",
     "text": [
      "Epoch 1/5\n",
      "  23/1875 [..............................] - ETA: 8s - loss: 1.7604 - accuracy: 0.4552"
     ]
    },
    {
     "name": "stderr",
     "output_type": "stream",
     "text": [
      "2022-05-11 20:08:54.292883: I tensorflow/core/grappler/optimizers/custom_graph_optimizer_registry.cc:113] Plugin optimizer for device_type GPU is enabled.\n"
     ]
    },
    {
     "name": "stdout",
     "output_type": "stream",
     "text": [
      "1875/1875 [==============================] - 8s 4ms/step - loss: 0.2830 - accuracy: 0.9176\n",
      "Epoch 2/5\n",
      "1875/1875 [==============================] - 8s 5ms/step - loss: 0.1348 - accuracy: 0.9603\n",
      "Epoch 3/5\n",
      "1875/1875 [==============================] - 8s 4ms/step - loss: 0.0997 - accuracy: 0.9699\n",
      "Epoch 4/5\n",
      "1875/1875 [==============================] - 9s 5ms/step - loss: 0.0814 - accuracy: 0.9748\n",
      "Epoch 5/5\n",
      "1875/1875 [==============================] - 9s 5ms/step - loss: 0.0692 - accuracy: 0.9786\n"
     ]
    },
    {
     "data": {
      "text/plain": [
       "<keras.callbacks.History at 0x2d425ca60>"
      ]
     },
     "execution_count": 8,
     "metadata": {},
     "output_type": "execute_result"
    }
   ],
   "source": [
    "\n",
    "import tensorflow as tf\n",
    "mnist = tf.keras.datasets.mnist\n",
    "\n",
    "# 匯入 MNIST 手寫阿拉伯數字 訓練灰階圖片\n",
    "(x_train, y_train),(x_test, y_test) = mnist.load_data()\n",
    "# 特徵縮放，使用常態化(Normalization)，公式 = (x - min) / (max - min)\n",
    "# 顏色範圍：0~255，所以，公式簡化為 x / 255\n",
    "x_train, x_test = x_train / 255.0, x_test / 255.0\n",
    "input_shape=(28,28,1) # 等於(28,28)\n",
    "\n",
    "# 建立模型\n",
    "model = tf.keras.models.Sequential([\n",
    "  tf.keras.layers.Flatten(input_shape=input_shape),\n",
    "  tf.keras.layers.Dense(128, activation='relu'),\n",
    "  tf.keras.layers.Dropout(0.2),\n",
    "  tf.keras.layers.Dense(10, activation='softmax')\n",
    "])\n",
    "\n",
    "# 設定優化器(optimizer)、損失函數(loss)、效能衡量指標(metrics)的類別\n",
    "model.compile(optimizer='adam',\n",
    "              loss='sparse_categorical_crossentropy',\n",
    "              metrics=['accuracy'])\n",
    "\n",
    "model_callback = [tf.keras.callbacks.TensorBoard(log_dir='logs'),tf.keras.callbacks.ModelCheckpoint(filepath=\"checkpoint/\", save_weights_only=True)]\n",
    "\n",
    "# 模型訓練\n",
    "model.fit(x_train, y_train, epochs=5, callbacks=model_callback)\n"
   ]
  },
  {
   "cell_type": "code",
   "execution_count": 9,
   "metadata": {},
   "outputs": [
    {
     "name": "stdout",
     "output_type": "stream",
     "text": [
      "Epoch 1/5\n",
      "1875/1875 [==============================] - 8s 4ms/step - loss: 0.0586 - accuracy: 0.9811\n",
      "Epoch 2/5\n",
      "1875/1875 [==============================] - 8s 4ms/step - loss: 0.0528 - accuracy: 0.9830\n",
      "Epoch 3/5\n",
      "1875/1875 [==============================] - 8s 4ms/step - loss: 0.0472 - accuracy: 0.9849\n",
      "Epoch 4/5\n",
      "1875/1875 [==============================] - 8s 4ms/step - loss: 0.0416 - accuracy: 0.9859\n",
      "Epoch 5/5\n",
      "1875/1875 [==============================] - 9s 5ms/step - loss: 0.0374 - accuracy: 0.9875\n"
     ]
    },
    {
     "data": {
      "text/plain": [
       "<keras.callbacks.History at 0x2d5390e50>"
      ]
     },
     "execution_count": 9,
     "metadata": {},
     "output_type": "execute_result"
    }
   ],
   "source": [
    "# 載入最近的檢查點的權重\n",
    "model.load_weights(\"checkpoint/\")\n",
    "# 訓練 5 次\n",
    "model.fit(x_train, y_train, epochs=5, callbacks=model_callback)"
   ]
  }
 ],
 "metadata": {
  "interpreter": {
   "hash": "4bd624a0593993fe43ac4046b27b898fb2ef75c21c08f81e89e64ea0f51df676"
  },
  "kernelspec": {
   "display_name": "Python 3.8.13 ('tensorflow')",
   "language": "python",
   "name": "python3"
  },
  "language_info": {
   "codemirror_mode": {
    "name": "ipython",
    "version": 3
   },
   "file_extension": ".py",
   "mimetype": "text/x-python",
   "name": "python",
   "nbconvert_exporter": "python",
   "pygments_lexer": "ipython3",
   "version": "3.8.13"
  },
  "orig_nbformat": 4
 },
 "nbformat": 4,
 "nbformat_minor": 2
}
