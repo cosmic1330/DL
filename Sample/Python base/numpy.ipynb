{
  "cells": [
    {
      "cell_type": "markdown",
      "metadata": {
        "id": "L9U9pw-KcJ1V"
      },
      "source": [
        "# 載入numpy套件"
      ]
    },
    {
      "cell_type": "code",
      "execution_count": null,
      "metadata": {
        "colab": {
          "base_uri": "https://localhost:8080/"
        },
        "id": "MI4pUIVMsF_3",
        "outputId": "f8cda3fd-7a42-477e-dbc1-ad3b199e1301"
      },
      "outputs": [
        {
          "name": "stdout",
          "output_type": "stream",
          "text": [
            "[ 3  4 -5]\n",
            "3\n"
          ]
        }
      ],
      "source": [
        "#載入numpy套件\n",
        "import numpy as np\n",
        "\n",
        "#根據列表建立ndarray(N-dimontional-array)物件\n",
        "ndarr = np.array([3,4,-5])\n",
        "\n",
        "#簡單的觀察\n",
        "print(ndarr) #把物件中的資料印出來\n",
        "print(ndarr.size) #取得資料的數量"
      ]
    },
    {
      "cell_type": "markdown",
      "metadata": {
        "id": "vjMfBzJYcXCH"
      },
      "source": [
        "## 建立陣列"
      ]
    },
    {
      "cell_type": "code",
      "execution_count": null,
      "metadata": {
        "colab": {
          "base_uri": "https://localhost:8080/"
        },
        "id": "NucCnrmN1ZVL",
        "outputId": "c300a000-ec8f-47c0-decc-e9f1bc979113"
      },
      "outputs": [
        {
          "name": "stdout",
          "output_type": "stream",
          "text": [
            "[-5.  -4.5 -4.  -3.5 -3.  -2.5 -2.  -1.5 -1.  -0.5  0.   0.5  1.   1.5\n",
            "  2.   2.5  3.   3.5  4.   4.5]\n",
            "[[0. 0. 0.]\n",
            " [0. 0. 0.]]\n"
          ]
        }
      ],
      "source": [
        "import numpy as np\n",
        "\n",
        "#建立一維陣列\n",
        "# data = np.array([3,2,6,4])\n",
        "# print(data)\n",
        "# data = np.empty(4) #創造一個有四個資料的一維陣列,資料未指定\n",
        "# print(data)\n",
        "# data = np.zeros(3) #創造一個有三個(資料為0)的一維陣列\n",
        "# print(data)\n",
        "# data = np.ones(3)\n",
        "# print(data)\n",
        "data = np.arange(-5, 5 ,0.5) #每0.5取一次\n",
        "print(data)\n",
        "\n",
        "#建立二維陣列\n",
        "# data = np.array([\n",
        "#                  [2,3,2],\n",
        "#                  [1,2,5],\n",
        "#                  [3,5,7] \n",
        "#          ])   3x3\n",
        "# print(data)\n",
        "# data = np.empty([3,3]) #創造一個3x3的二維陣列,資料未指定\n",
        "# print(data)\n",
        "# data = np.zeros([2,3]) #[[0. 0. 0.][0. 0. 0.]]\n",
        "# print(data)\n",
        "# data = np.ones([5,2])\n",
        "# print(data)\n",
        "\n",
        "#建立多維陣列\n",
        "# data = np.array([\n",
        "#                  [\n",
        "#                   [\n",
        "#                    [2,2],[3,3]\n",
        "#                   ]\n",
        "#                  ]\n",
        "#          ])                #建立一個1x1x2x2的四維陣列\n",
        "# print(data.shape)\n",
        "# data = np.empty([2,2,2,2])\n",
        "# print(data)\n",
        "# data = np.zeros([2,2,2,2])\n",
        "# print(data)\n",
        "# data = np.ones([1,1,3,4])\n",
        "# print(data)\n"
      ]
    },
    {
      "cell_type": "markdown",
      "metadata": {
        "id": "u5iqmG3yin02"
      },
      "source": [
        "## 陣列資料型別"
      ]
    },
    {
      "cell_type": "code",
      "execution_count": null,
      "metadata": {
        "colab": {
          "base_uri": "https://localhost:8080/"
        },
        "id": "50eATgj6ivlV",
        "outputId": "cb8f8f11-ae27-472d-909e-0e6868af555e"
      },
      "outputs": [
        {
          "name": "stdout",
          "output_type": "stream",
          "text": [
            "float64\n",
            "[1 2 3]\n",
            "int64\n"
          ]
        }
      ],
      "source": [
        "'''\n",
        "Items data type\n",
        "'''\n",
        "arr = np.array([1.1, 2.1, 3.1])\n",
        "print(arr.dtype)\n",
        "newarr = arr.astype('int')\n",
        "print(newarr)\n",
        "print(newarr.dtype)"
      ]
    },
    {
      "cell_type": "markdown",
      "metadata": {
        "id": "b1Qwo2jwcioh"
      },
      "source": [
        "## Numpy運算"
      ]
    },
    {
      "cell_type": "code",
      "execution_count": null,
      "metadata": {
        "colab": {
          "base_uri": "https://localhost:8080/"
        },
        "id": "HnjJlOzkBU3D",
        "outputId": "da6b60d7-cd28-43a6-8e02-011d98fe4c57"
      },
      "outputs": [
        {
          "name": "stdout",
          "output_type": "stream",
          "text": [
            "[-3  4 15]\n"
          ]
        }
      ],
      "source": [
        "import numpy as np\n",
        "\n",
        "#逐元運算(elementwise)\n",
        "data1 = np.array([3,2,10])\n",
        "data2 = np.array([1,3,6])\n",
        "# result=data1+data2\n",
        "# print(\"加法\",result)\n",
        "# result=data1*data2\n",
        "# print(\"乘法\",result)\n",
        "# result=data1>data2\n",
        "# print(\"大於\",result)\n",
        "# result = data1==data2\n",
        "# print(\"是否相等\",result)\n",
        "\n",
        "#矩陣運算(matrix)\n",
        "# data1 = np.array([[1,3]]) #1x2\n",
        "# data2 = np.array([[2,-1,3],[-2,4,1]]) #2x3\n",
        "# result=data1.dot(data2) #1x3 or data1@data2\n",
        "# print(\"內積\",result)\n",
        "# result = np.outer(data1,data2) #2x6\n",
        "# print(\"外積\",result)\n",
        "\n",
        "#統計運算(statistics)\n",
        "data=np.array([[2,1,7],[-5,3,8]]) #2x3\n",
        "# result=data.cumsum() #逐個累加2,2+1,2+1+7,brabra\n",
        "# print(result)\n",
        "result=data.sum(axis=0) #針對column做總和 axis=1針對row做總和\n",
        "print(result)\n",
        "# result=data.sum(axis=1)\n",
        "# print(result)\n",
        "# result=data.max(axis=0)\n",
        "# print(result)\n",
        "# result=data.mean(axis=1)\n",
        "# print(result)\n",
        "# result=data.sum()\n",
        "# print(\"總和\",result)\n",
        "# result=data.max()\n",
        "# print(\"最大值\",result)\n",
        "# result=data.mean()\n",
        "# print(\"平均數\",result)\n",
        "# result=data.std()\n",
        "# print(\"標準差\",result)\n"
      ]
    },
    {
      "cell_type": "markdown",
      "metadata": {
        "id": "mlzuJTIMcs9w"
      },
      "source": [
        "## 多維陣列維度/形狀操作"
      ]
    },
    {
      "cell_type": "code",
      "execution_count": null,
      "metadata": {
        "colab": {
          "base_uri": "https://localhost:8080/"
        },
        "id": "LiyLPr5OTZ9A",
        "outputId": "70ec31e5-0a93-4740-b990-1b0879c62200"
      },
      "outputs": [
        {
          "name": "stdout",
          "output_type": "stream",
          "text": [
            "[[0 1 2]\n",
            " [3 4 5]\n",
            " [6 7 8]]\n",
            "[[0 3 6]\n",
            " [1 4 7]\n",
            " [2 5 8]]\n"
          ]
        }
      ],
      "source": [
        "import numpy as np\n",
        "\n",
        "#觀察資料形狀\n",
        "# data = np.ones(10)\n",
        "# print(data.shape)  #(10,)\n",
        "# data = np.array([[[1,3,6],[5,4,6]]])\n",
        "# print(data.shape)\n",
        "\n",
        "#資料轉置 by T\n",
        "# data = np.array([[5,3,6],[5,4,6]])\n",
        "# print(data.shape)\n",
        "# print(data.T.shape) \n",
        "\n",
        "#扁平化資料\n",
        "# data = np.array([[[2,1,3],[1,2,3]],[[4,5,6],[8,9,10]]])\n",
        "# print(data.shape)\n",
        "# newdata=data.ravel()\n",
        "# print(newdata)\n",
        "# print(newdata.shape)\n",
        "\n",
        "#重朔資料形狀\n",
        "# data = np.array([[[2,1,3],[1,2,3]],[[4,5,6],[8,9,10]]]) #2x2x3=12\n",
        "# newdata = data.reshape(3,4) #3x4=12\n",
        "# print(newdata)\n",
        "# newdata = data.reshape(4,3,1) #4x3x1=12\n",
        "# print(newdata)\n",
        "\n",
        "# data = np.zeros(18).reshape(3,6)\n",
        "# print(data)\n",
        "\n",
        "#產生1個3X3且數字0~9的矩陣\n",
        "data=np.arange(9).reshape(3,3)\n",
        "print(data)\n",
        "print(data.T)"
      ]
    },
    {
      "cell_type": "markdown",
      "metadata": {
        "id": "yllUy23Bc0jI"
      },
      "source": [
        "## 多維陣列的索引 Indexing"
      ]
    },
    {
      "cell_type": "code",
      "execution_count": null,
      "metadata": {
        "colab": {
          "base_uri": "https://localhost:8080/"
        },
        "id": "PIY2iKQHcGK4",
        "outputId": "f3a5203a-4284-40b6-b861-94b7d9c8ed0f"
      },
      "outputs": [
        {
          "name": "stdout",
          "output_type": "stream",
          "text": [
            "(2, 2, 3)\n",
            "[[ 8  1  3]\n",
            " [-5  5  2]]\n",
            "====\n",
            "[[[ 1  3]\n",
            "  [ 5  2]]\n",
            "\n",
            " [[ 1  6]\n",
            "  [ 4 -3]]]\n"
          ]
        }
      ],
      "source": [
        "import numpy as np\n",
        "\n",
        "\n",
        "#單維度的資料\n",
        "# data=np.array([1,5,2,10])\n",
        "# print(data[1])\n",
        "\n",
        "#多維度的資料\n",
        "# data=np.array([[1,5],[2,6],[4,6]]) #3x2\n",
        "# print(data[0,1]) #5\n",
        "# print(data[1,0]) #2\n",
        "# print(data[2,0]) #4\n",
        "\n",
        "#多維陣列的切片\n",
        "#單維度的切片\n",
        "# data=np.array([-1,-5,2,3])\n",
        "# print(data[0:3]) #[-1 -5  2]\n",
        "# print(data[:2])  #[-1 -5]\n",
        "\n",
        "#多維度的切片\n",
        "# data=np.array([[0,1,2],[3,4,5],[5,4,3],[2,1,0]]) #4x3\n",
        "# print(data[1:3,0:2]) #[3,4][5,4]\n",
        "# print(data[0:2,1])  #[1 4]\n",
        "\n",
        "#使用...代表我全都要\n",
        "data=np.array([\n",
        "              [\n",
        "                [8,1,3],[-5,5,2]\n",
        "              ],\n",
        "              [\n",
        "                [0,1,6],[4,4,-3]\n",
        "              ]\n",
        "       ]) #2x2x3\n",
        "print(data.shape)\n",
        "print(data[0,...])\n",
        "print(\"====\")\n",
        "print(data[..., 1:3])"
      ]
    },
    {
      "cell_type": "code",
      "execution_count": null,
      "metadata": {
        "colab": {
          "base_uri": "https://localhost:8080/"
        },
        "id": "V1ijA07-ninR",
        "outputId": "173528b3-38cb-48e3-b3e7-2afbbd69ef65"
      },
      "outputs": [
        {
          "name": "stdout",
          "output_type": "stream",
          "text": [
            "(0,) 1\n",
            "(1,) 2\n",
            "(2,) 5\n",
            "0 1\n",
            "1 2\n",
            "2 5\n",
            "(0, 0) 1\n",
            "(0, 1) 2\n",
            "(0, 2) 3\n",
            "(0, 3) 4\n",
            "(1, 0) 5\n",
            "(1, 1) 6\n",
            "(1, 2) 7\n",
            "(1, 3) 8\n"
          ]
        }
      ],
      "source": [
        "'''\n",
        "Iterate array item + index\n",
        "'''\n",
        "arr = np.array([1, 2, 5])\n",
        "for idx, x in np.ndenumerate(arr):\n",
        "    print(idx, x)\n",
        "    \n",
        "for idx, x in enumerate(arr):\n",
        "    print(idx, x)\n",
        "    \n",
        "arr = np.array([[1, 2, 3, 4], [5, 6, 7, 8]]) #2X4\n",
        "for idx, x in np.ndenumerate(arr):\n",
        "    print(idx, x)"
      ]
    },
    {
      "cell_type": "markdown",
      "metadata": {
        "id": "q_Cl_1-Rn1bw"
      },
      "source": [
        "## 陣列連接"
      ]
    },
    {
      "cell_type": "code",
      "execution_count": null,
      "metadata": {
        "colab": {
          "base_uri": "https://localhost:8080/"
        },
        "id": "wC3RmbS4n5ut",
        "outputId": "47b5e4dd-4657-4868-9b52-aca438458436"
      },
      "outputs": [
        {
          "name": "stdout",
          "output_type": "stream",
          "text": [
            "[1 2 3 4 5 6]\n",
            "[1, 2, 3, 4, 5, 6]\n"
          ]
        }
      ],
      "source": [
        "'''\n",
        "Concatenate\n",
        "'''\n",
        "\n",
        "arr1 = np.array([1, 2, 3])\n",
        "\n",
        "arr2 = np.array([4, 5, 6])\n",
        "\n",
        "arr = np.concatenate((arr1, arr2))\n",
        "\n",
        "print(arr)\n",
        "print(arr1.tolist() + arr2.tolist())"
      ]
    },
    {
      "cell_type": "markdown",
      "metadata": {
        "id": "Zs8v04H9c6sh"
      },
      "source": [
        "## 陣列合併"
      ]
    },
    {
      "cell_type": "code",
      "execution_count": null,
      "metadata": {
        "colab": {
          "base_uri": "https://localhost:8080/"
        },
        "id": "WicOCzbRn9tU",
        "outputId": "88fdffbc-743d-45dd-b3f2-79c1ccc5ad6c"
      },
      "outputs": [
        {
          "name": "stdout",
          "output_type": "stream",
          "text": [
            "[[ 1  2  3  7  8  9 13 14]\n",
            " [ 4  5  6 10 11 12 15 16]]\n"
          ]
        }
      ],
      "source": [
        "import numpy as np\n",
        "\n",
        "#準備測試資料\n",
        "arr1 = np.array([ [1,2,3] , [4,5,6] ]) #2x3\n",
        "arr2 = np.array([ [7,8,9] , [10,11,12] ]) #2x3\n",
        "arr3 = np.array([[13,14],[15,16]]) #2x2\n",
        "\n",
        "#合併第一個維度\n",
        "# result1=np.vstack((arr1, arr2))\n",
        "# print(result1)\n",
        "\"\"\"\n",
        "  4x3 [[123],[456],[789],[101112]]\n",
        "\"\"\"\n",
        "\n",
        "#合併第二格維度\n",
        "# result2=np.hstack((arr1,arr2))\n",
        "# print(result2)\n",
        "\"\"\"\n",
        "  2x6 [[1 2 3 7 8 9],[4 5 6 10 11 12]]\n",
        "\"\"\"\n",
        "result3=np.hstack((arr1,arr2,arr3))\n",
        "print(result3) #2x(3+3+2)\n",
        "\n"
      ]
    },
    {
      "cell_type": "markdown",
      "metadata": {
        "id": "InNc86vxdDn5"
      },
      "source": [
        "## 陣列切割"
      ]
    },
    {
      "cell_type": "code",
      "execution_count": null,
      "metadata": {
        "colab": {
          "base_uri": "https://localhost:8080/",
          "height": 102
        },
        "id": "GWiEK8Vzwjz8",
        "outputId": "0d0da47b-2760-43e1-8038-d2ad055bfca6"
      },
      "outputs": [
        {
          "name": "stdout",
          "output_type": "stream",
          "text": [
            "[array([[2, 4],\n",
            "       [1, 3]]), array([[6, 8],\n",
            "       [5, 7]]), array([[10, 12],\n",
            "       [ 9, 11]])]\n"
          ]
        },
        {
          "data": {
            "application/vnd.google.colaboratory.intrinsic+json": {
              "type": "string"
            },
            "text/plain": [
              "'2x2 [[10,12],[9,11]]'"
            ]
          },
          "execution_count": 3,
          "metadata": {
            "tags": []
          },
          "output_type": "execute_result"
        }
      ],
      "source": [
        "import numpy as np\n",
        "\n",
        "#準備測試資料\n",
        "arr=np.array([[2,4,6,8,10,12],[1,3,5,7,9,11]]) #2x6\n",
        "\n",
        "#根據第一個維度切割\n",
        "# result1=np.vsplit(arr,2)\n",
        "# print(result1)\n",
        "\"[2,4,6,8,10,12] 1X6\"\n",
        "\"[1,3,5,7,9,11] 1X6\"\n",
        "\n",
        "#根據地二個維度切割\n",
        "# result2=np.hsplit(arr,2)\n",
        "# print(result2)\n",
        "\"2x3 [[2,4,6],[1,3,5]]\"\n",
        "\"2x3 [[8,10,12],[7,9,11]]\"\n",
        "\n",
        "#根據地二個維度切割成3個陣列\n",
        "result=np.hsplit(arr,3)\n",
        "print(result)\n",
        "\"2x2 [[2,4],[1,3]]\"\n",
        "\"2x2 [[6,8],[5,7]]\"\n",
        "\"2x2 [[10,12],[9,11]]\""
      ]
    },
    {
      "cell_type": "markdown",
      "metadata": {
        "id": "QkoZyKDNdHXK"
      },
      "source": [
        "## 多維度的切片"
      ]
    },
    {
      "cell_type": "code",
      "execution_count": null,
      "metadata": {
        "colab": {
          "base_uri": "https://localhost:8080/"
        },
        "id": "tUkfaUlbLJyg",
        "outputId": "3e4b4746-7cd6-4cdc-c34d-1149e745ac77"
      },
      "outputs": [
        {
          "name": "stdout",
          "output_type": "stream",
          "text": [
            "(2, 2, 3)\n",
            "[[ 8  1  3]\n",
            " [-5  5  2]]\n",
            "============================================================\n",
            "[[[ 1  3]\n",
            "  [ 5  2]]\n",
            "\n",
            " [[ 1  6]\n",
            "  [ 4 -3]]]\n",
            "============================================================\n",
            "(3, 3, 3)\n",
            "[[[1 2 3]\n",
            "  [4 5 6]\n",
            "  [7 8 9]]\n",
            "\n",
            " [[1 2 3]\n",
            "  [4 5 6]\n",
            "  [7 8 9]]\n",
            "\n",
            " [[1 2 3]\n",
            "  [4 5 6]\n",
            "  [7 8 9]]]\n"
          ]
        }
      ],
      "source": [
        "import numpy as np\n",
        "\n",
        "# data=np.array([[0,1,2],[3,4,5],[5,4,3],[2,1,0]]) #4x3\n",
        "# print(data[1:3,0:2]) \n",
        "# print(data[0:2,1]) #[1 4]\n",
        "\n",
        "#使用...代表我全都要\n",
        "data=np.array([\n",
        "              [\n",
        "                [8,1,3],[-5,5,2]\n",
        "              ],\n",
        "              [\n",
        "                [0,1,6],[4,4,-3]\n",
        "              ]\n",
        "       ]) #2x2x3\n",
        "print(data.shape)\n",
        "print(data[0,...])\n",
        "print(\"=\"*60)\n",
        "print(data[... ,1:3])\n",
        "print(\"=\"*60)\n",
        "\n",
        "data=np.array([\n",
        "               [\n",
        "                [1,2,3],[4,5,6],[7,8,9]\n",
        "               ],\n",
        "               [\n",
        "                   [1,2,3],[4,5,6],[7,8,9]\n",
        "               ],\n",
        "               [\n",
        "                [1,2,3],[4,5,6],[7,8,9]\n",
        "               ]\n",
        "        ])  #3x3x3\n",
        "print(data.shape)\n",
        "print(data)"
      ]
    },
    {
      "cell_type": "markdown",
      "metadata": {
        "id": "GwBlwYKdpLWv"
      },
      "source": [
        "## where 函數 找出函數index"
      ]
    },
    {
      "cell_type": "code",
      "execution_count": null,
      "metadata": {
        "id": "R3W0bS9YpL_3"
      },
      "outputs": [],
      "source": [
        "'''\n",
        "where()\n",
        "search an array for a certain value, \n",
        "and return the indexes that get a match.\n",
        "'''\n",
        "\n",
        "arr = np.array([1, 2, 3, 4, 5, 4, 4])\n",
        "x = np.where(arr == 4)\n",
        "print(x)\n",
        "arr = np.array([1, 2, 3, 4, 5, 6, 7, 8])\n",
        "x = np.where(arr%2 == 1)\n",
        "print(x) \n",
        "print(arr[x])"
      ]
    },
    {
      "cell_type": "code",
      "execution_count": 16,
      "metadata": {},
      "outputs": [
        {
          "name": "stdout",
          "output_type": "stream",
          "text": [
            "(2, 4) (2, 4, 1)\n",
            "[[[1]\n",
            "  [2]\n",
            "  [3]\n",
            "  [4]]\n",
            "\n",
            " [[5]\n",
            "  [6]\n",
            "  [7]\n",
            "  [8]]]\n"
          ]
        }
      ],
      "source": [
        "import numpy as np\n",
        "x = np.array([1,2,3,4,5,6,7,8])\n",
        "x = x.reshape(2,4)\n",
        "y = np.expand_dims(x,axis=2)\n",
        "print(x.shape,y.shape)\n",
        "print(y)"
      ]
    }
  ],
  "metadata": {
    "colab": {
      "collapsed_sections": [],
      "name": "numpy-train.ipynb",
      "provenance": [],
      "toc_visible": true
    },
    "kernelspec": {
      "display_name": "Python 3",
      "name": "python3"
    },
    "language_info": {
      "codemirror_mode": {
        "name": "ipython",
        "version": 3
      },
      "file_extension": ".py",
      "mimetype": "text/x-python",
      "name": "python",
      "nbconvert_exporter": "python",
      "pygments_lexer": "ipython3",
      "version": "3.8.13"
    }
  },
  "nbformat": 4,
  "nbformat_minor": 0
}
