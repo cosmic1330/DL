{
  "nbformat": 4,
  "nbformat_minor": 0,
  "metadata": {
    "colab": {
      "name": "Tensorflow basic_2022.ipynb",
      "provenance": []
    },
    "kernelspec": {
      "name": "python3",
      "display_name": "Python 3"
    },
    "language_info": {
      "name": "python"
    }
  },
  "cells": [
    {
      "cell_type": "markdown",
      "metadata": {
        "id": "6tiAJ1qE7Mq4"
      },
      "source": [
        "# Tensorflow Basic\n",
        "以下程式來自\n",
        "https://tf.wiki/zh_hant/basic/basic.html"
      ]
    },
    {
      "cell_type": "code",
      "metadata": {
        "colab": {
          "base_uri": "https://localhost:8080/",
          "height": 35
        },
        "id": "e6voK3E8l6YD",
        "outputId": "8c963a8f-3afa-4b24-ec77-98cbc5532bbf"
      },
      "source": [
        "import tensorflow as tf\n",
        "tf.__version__"
      ],
      "execution_count": null,
      "outputs": [
        {
          "output_type": "execute_result",
          "data": {
            "text/plain": [
              "'2.8.0'"
            ],
            "application/vnd.google.colaboratory.intrinsic+json": {
              "type": "string"
            }
          },
          "metadata": {},
          "execution_count": 1
        }
      ]
    },
    {
      "cell_type": "markdown",
      "metadata": {
        "id": "fk7FBNOGn0km"
      },
      "source": [
        "本手冊基於TensorFlow的即時執行模式（Eager Execution）。在TensorFlow 1.X版本中，必須在導入TensorFlow套件後呼叫tf.enable_eager_execution()函數以啟用即時執行模式。在TensorFlow 2中，即時執行模式將成為預設模式，無需額外呼叫tf.enable_eager_execution()函數（不過若要關閉即時執行模式，則需呼叫tf.compat.v1.disable_eager_execution()函數）。"
      ]
    },
    {
      "cell_type": "markdown",
      "metadata": {
        "id": "L2vtSg0enV4i"
      },
      "source": [
        "## Tensorflow <-> Numpy\n",
        "1. constant\n",
        "2. variable\n",
        "3. operation"
      ]
    },
    {
      "cell_type": "markdown",
      "metadata": {
        "id": "WcYzy0CSnolQ"
      },
      "source": [
        "TensorFlow使用**張量**（Tensor）作為資料的基本單位。TensorFlow的張量在概念上等同於多維陣列，我們可以使用它來描述數學中的純量（0維陣列）、向量（1維陣列）、矩陣（2維陣列）等各種量，範例如下："
      ]
    },
    {
      "cell_type": "code",
      "metadata": {
        "colab": {
          "base_uri": "https://localhost:8080/"
        },
        "id": "vLBP411dmMu6",
        "outputId": "8f5e2b26-27c6-4f4d-a5d9-144bb50e8fda"
      },
      "source": [
        "# 定義一個隨機數（純量）\n",
        "random_float = tf.random.uniform(shape=())\n",
        "print('tensor 隨機數: ', random_float)\n",
        "# 定義一個有2個元素的零向量\n",
        "zero_vector = tf.zeros(shape=(2))\n",
        "print('tensor 兩個元素的零向量: ', zero_vector)\n",
        "# 定義兩個2×2的常量矩陣\n",
        "A = tf.constant([[1., 2.], [3., 4.]])\n",
        "B = tf.constant([[5., 6.], [7., 8.]])\n",
        "print('tensor 2*2 矩陣: ', A)"
      ],
      "execution_count": null,
      "outputs": [
        {
          "output_type": "stream",
          "name": "stdout",
          "text": [
            "tensor 隨機數:  tf.Tensor(0.8112519, shape=(), dtype=float32)\n",
            "tensor 兩個元素的零向量:  tf.Tensor([0. 0.], shape=(2,), dtype=float32)\n",
            "tensor 2*2 矩陣:  tf.Tensor(\n",
            "[[1. 2.]\n",
            " [3. 4.]], shape=(2, 2), dtype=float32)\n"
          ]
        }
      ]
    },
    {
      "cell_type": "code",
      "metadata": {
        "colab": {
          "base_uri": "https://localhost:8080/"
        },
        "id": "X01xUW3jmQWr",
        "outputId": "c7d54e06-00ed-4c8e-b4a3-d17e507b9d5c"
      },
      "source": [
        "# 查看矩陣A的形狀、類型和值\n",
        "print('A: ', A)\n",
        "print('A.shape: ', A.shape)      # 輸出(2, 2)，即矩陣的長和寬均為2\n",
        "print('A.dtype: ', A.dtype)      # 輸出<dtype: 'float32'>\n",
        "print('A.numpy: ', A.numpy())     # 輸出[[1. 2.]\n",
        "                    #    [3. 4.]]"
      ],
      "execution_count": null,
      "outputs": [
        {
          "output_type": "stream",
          "name": "stdout",
          "text": [
            "A:  tf.Tensor(\n",
            "[[1. 2.]\n",
            " [3. 4.]], shape=(2, 2), dtype=float32)\n",
            "A.shape:  (2, 2)\n",
            "A.dtype:  <dtype: 'float32'>\n",
            "A.numpy:  [[1. 2.]\n",
            " [3. 4.]]\n"
          ]
        }
      ]
    },
    {
      "cell_type": "markdown",
      "metadata": {
        "id": "kDLV1vQLnPWz"
      },
      "source": [
        "TensorFlow的大多數API函數會根據輸入的值自動推斷張量中元素的類型（一般預設為tf.float32）。\n",
        "\n",
        "不過你也可以通過加入dtype參數來自行指定類型，例如將使得張量中的元素類型均為整數。\n",
        "\n",
        "`zero_vector = tf.zeros(shape=(2), dtype=tf.int32)`\n"
      ]
    },
    {
      "cell_type": "markdown",
      "metadata": {
        "id": "wC-_rHG1oYyj"
      },
      "source": [
        "TensorFlow 裡有大量的運算函數（Operation），使得我們可以將已有的張量進行運算後得到新的張量"
      ]
    },
    {
      "cell_type": "code",
      "metadata": {
        "colab": {
          "base_uri": "https://localhost:8080/"
        },
        "id": "o7jO6Xo_maah",
        "outputId": "c6f0a6ec-293d-436d-b289-bfd682e94ae1"
      },
      "source": [
        "C = tf.add(A, B)   # 計算矩陣A和B的和\n",
        "D = tf.matmul(A, B) # 計算矩陣A和B的乘積\n",
        "print('add A, B: ', C)\n",
        "print('matmul A, B: ', D)"
      ],
      "execution_count": null,
      "outputs": [
        {
          "output_type": "stream",
          "name": "stdout",
          "text": [
            "add A, B:  tf.Tensor(\n",
            "[[ 6.  8.]\n",
            " [10. 12.]], shape=(2, 2), dtype=float32)\n",
            "matmul A, B:  tf.Tensor(\n",
            "[[19. 22.]\n",
            " [43. 50.]], shape=(2, 2), dtype=float32)\n"
          ]
        }
      ]
    },
    {
      "cell_type": "markdown",
      "metadata": {
        "id": "Odus3vCHmu8O"
      },
      "source": [
        "可見，我們成功使用tf.add()操作計算出$\\begin{bmatrix} 1 & 2 \\\\ 3 & 4 \\end{bmatrix} + \\begin{bmatrix} 5 & 6 \\\\ 7 & 8 \\end{bmatrix} = \\begin{bmatrix} 6 & 8 \\\\ 10 & 12 \\end{bmatrix}$，\\\n",
        "使用tf.matmul()操作計算出$\\begin{bmatrix} 1 & 2 \\\\ 3 & 4 \\end{bmatrix} \\times \\begin{bmatrix} 5 & 6 \\\\ 7 & 8 \\end{bmatrix} = \\begin{bmatrix} 19 & 22 \\\\43 & 50 \\end{bmatrix}。$"
      ]
    },
    {
      "cell_type": "markdown",
      "metadata": {
        "id": "kusu1oUzoiLR"
      },
      "source": [
        "## 自動推導機制 (Auto differentiate)\n",
        "在機器學習中，我們經常需要計算函數的導數。TensorFlow提供了強大的自動推導機制來計算導數。\n",
        "\n",
        "在即時執行模式下，TensorFlow引入了`tf.GradientTape`() 這個**“推導記錄器”**來實現自動微分。\n",
        "\n",
        "以下程式碼展示瞭如何使用`tf.GradientTape()`計算函數 $y(x) = x^2$ 在 $x = 3$ 時的導數："
      ]
    },
    {
      "cell_type": "code",
      "metadata": {
        "colab": {
          "base_uri": "https://localhost:8080/"
        },
        "id": "LBHgMz-voe-p",
        "outputId": "8ed28948-3ccf-4f30-e6d9-46732c8881d3"
      },
      "source": [
        "x = tf.Variable(initial_value=3.)\n",
        "with tf.GradientTape() as tape:     # 在 tf.GradientTape() 的上下文內，所有計算步驟都會被記錄以用於推導\n",
        "    y = tf.square(x)\n",
        "y_grad = tape.gradient(y, x)        # 計算y關於x的導數\n",
        "print('y = ', y)\n",
        "print('y_grad = ', y_grad)"
      ],
      "execution_count": null,
      "outputs": [
        {
          "output_type": "stream",
          "name": "stdout",
          "text": [
            "y =  tf.Tensor(9.0, shape=(), dtype=float32)\n",
            "y_grad =  tf.Tensor(6.0, shape=(), dtype=float32)\n"
          ]
        }
      ]
    },
    {
      "cell_type": "markdown",
      "metadata": {
        "id": "kQyZpvVqpdac"
      },
      "source": [
        "這裡 $x$ 是一個初始化為3的變數（Variable），使用`tf.Variable()`宣告。與普通張量一樣，\n",
        "\n",
        "變數同樣具有形狀、類型和值三種屬性。使用變數需要有一個初始化過程，\n",
        "\n",
        "可以通過在`tf.Variable()`中指定`initial_value`參數來指定初始值。這裡將變數x初始化為3. \n",
        "\n",
        "變數與普通張量的一個重要區別是其預設能夠被TensorFlow的自動推導機制所求，因此往往被用於定義機器學習模型的參數。"
      ]
    },
    {
      "cell_type": "markdown",
      "metadata": {
        "id": "QsCXnUMRqCd1"
      },
      "source": [
        "tf.GradientTape()是一個自動推導的記錄器。只要進入了的上下文環境，則在該環境中計算步驟都會被自動記錄。比如在上面的範例中，計算步驟即被自動記錄。離開上下文環境後，記錄將停止，但記錄器依然可用，因此可以通過求張量對變數的導數"
      ]
    },
    {
      "cell_type": "code",
      "metadata": {
        "colab": {
          "base_uri": "https://localhost:8080/"
        },
        "id": "znvG4np0qBmP",
        "outputId": "5f1c5910-b317-4921-b6e8-1315e92fd7cb"
      },
      "source": [
        "X = tf.constant([[1., 2.], [3., 4.]])\n",
        "y = tf.constant([[1.], [2.]])\n",
        "w = tf.Variable(initial_value=[[1.], [2.]])\n",
        "b = tf.Variable(initial_value=1.)\n",
        "with tf.GradientTape() as tape:\n",
        "    L = tf.reduce_sum(tf.square(tf.matmul(X, w) + b - y))\n",
        "w_grad, b_grad = tape.gradient(L, [w, b])        # 計算L(w, b)關於w, b的偏導數\n",
        "print('Loss: ', L)\n",
        "print('w_grad: ', w_grad)\n",
        "print('b_grad: ', b_grad)"
      ],
      "execution_count": null,
      "outputs": [
        {
          "output_type": "stream",
          "name": "stdout",
          "text": [
            "Loss:  tf.Tensor(125.0, shape=(), dtype=float32)\n",
            "w_grad:  tf.Tensor(\n",
            "[[ 70.]\n",
            " [100.]], shape=(2, 1), dtype=float32)\n",
            "b_grad:  tf.Tensor(30.0, shape=(), dtype=float32)\n"
          ]
        }
      ]
    },
    {
      "cell_type": "markdown",
      "metadata": {
        "id": "zDSkSLPpsDqv"
      },
      "source": [
        "`tf.square()` 操作代表對輸入張量的每一個元素求平方\n",
        "\n",
        "`tf.reduce_sum()` 操作代表對輸入張量的所有元素求和，輸出一個形狀為空的純量張量（可以通過axis參數來指定求和的維度，不指定則預設對所有元素求和）。\n",
        "\n",
        "TensorFlow中有大量的張量操作API，包括數學運算、張量形狀操作（如tf.reshape()）、切片和連接（如tf.concat()）等多種類型，\n",
        "\n",
        "從輸出可見，TensorFlow 幫助我們計算出了\n",
        "\n",
        "![](https://i.imgur.com/g3bpbNo.png)"
      ]
    },
    {
      "cell_type": "markdown",
      "metadata": {
        "id": "xkm8gni0sq1y"
      },
      "source": [
        "![](https://i.imgur.com/TSZcKY1.png)"
      ]
    },
    {
      "cell_type": "code",
      "metadata": {
        "id": "nxZTcTOpmiO5"
      },
      "source": [
        "import numpy as np\n",
        "\n",
        "X_raw = np.array([2013, 2014, 2015, 2016, 2017], dtype=np.float32)\n",
        "y_raw = np.array([12000, 14000, 15000, 16500, 17500], dtype=np.float32)\n",
        "\n",
        "X = (X_raw - X_raw.min()) / (X_raw.max() - X_raw.min())\n",
        "y = (y_raw - y_raw.min()) / (y_raw.max() - y_raw.min())"
      ],
      "execution_count": null,
      "outputs": []
    },
    {
      "cell_type": "markdown",
      "metadata": {
        "id": "TENP7r0ls544"
      },
      "source": [
        "![](https://i.imgur.com/TsU8g1O.png)"
      ]
    },
    {
      "cell_type": "markdown",
      "metadata": {
        "id": "w4oN3LuVtPBm"
      },
      "source": [
        "![](https://i.imgur.com/EoKqFvI.png)"
      ]
    },
    {
      "cell_type": "code",
      "metadata": {
        "colab": {
          "base_uri": "https://localhost:8080/"
        },
        "id": "RrYs-JVetOPe",
        "outputId": "92b9c451-3ab9-4c12-b58b-40b4ee2cd9da"
      },
      "source": [
        "X = tf.constant(X)\n",
        "y = tf.constant(y)\n",
        "\n",
        "a = tf.Variable(initial_value=0.)\n",
        "b = tf.Variable(initial_value=0.)\n",
        "variables = [a, b]\n",
        "\n",
        "num_epoch = 10000\n",
        "optimizer = tf.keras.optimizers.SGD(learning_rate=5e-4)\n",
        "for e in range(num_epoch):\n",
        "    # 使用tf.GradientTape()記錄損失函數的梯度資訊\n",
        "    with tf.GradientTape() as tape:\n",
        "        y_pred = a * X + b\n",
        "        loss = tf.reduce_sum(tf.square(y_pred - y))\n",
        "    # TensorFlow自動計算損失函數關於自變數（模型參數）的梯度\n",
        "    grads = tape.gradient(loss, variables)\n",
        "    # TensorFlow自動根據梯度更新參數\n",
        "    optimizer.apply_gradients(grads_and_vars=zip(grads, variables))\n",
        "\n",
        "print('a: ', a)\n",
        "print('b: ', b)\n"
      ],
      "execution_count": null,
      "outputs": [
        {
          "output_type": "stream",
          "name": "stdout",
          "text": [
            "a:  <tf.Variable 'Variable:0' shape=() dtype=float32, numpy=0.97637>\n",
            "b:  <tf.Variable 'Variable:0' shape=() dtype=float32, numpy=0.057565063>\n"
          ]
        }
      ]
    },
    {
      "cell_type": "markdown",
      "metadata": {
        "id": "gwzae6jyt0UZ"
      },
      "source": [
        "![](https://i.imgur.com/BouT9UF.png)"
      ]
    },
    {
      "cell_type": "markdown",
      "metadata": {
        "id": "YaQv9AgIwU_m"
      },
      "source": [
        "![](https://i.imgur.com/9APTh4c.png)\n",
        "![](https://i.imgur.com/ij4OL4o.png)"
      ]
    },
    {
      "cell_type": "code",
      "source": [
        "import matplotlib.pyplot as plt\n",
        "\n",
        "plt.scatter(X, y)\n",
        "\n",
        "line_x = np.arange(0, 1, 0.01)\n",
        "line_y = a * line_x + b\n",
        "plt.plot(line_x, line_y, 'r-')"
      ],
      "metadata": {
        "colab": {
          "base_uri": "https://localhost:8080/",
          "height": 282
        },
        "id": "tdLLBTuoO3Ne",
        "outputId": "7f415551-d9a4-4feb-c03f-b6ad1cb37948"
      },
      "execution_count": null,
      "outputs": [
        {
          "output_type": "execute_result",
          "data": {
            "text/plain": [
              "[<matplotlib.lines.Line2D at 0x7f49bfdcdd50>]"
            ]
          },
          "metadata": {},
          "execution_count": 19
        },
        {
          "output_type": "display_data",
          "data": {
            "text/plain": [
              "<Figure size 432x288 with 1 Axes>"
            ],
            "image/png": "[encoded data removed]"
          },
          "metadata": {
            "needs_background": "light"
          }
        }
      ]
    }
  ]
}